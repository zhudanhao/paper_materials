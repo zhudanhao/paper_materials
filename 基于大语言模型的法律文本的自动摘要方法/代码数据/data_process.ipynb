{
 "cells": [
  {
   "cell_type": "code",
   "execution_count": 2,
   "id": "4ea3a31f-f5e6-4e9e-8978-786d2d9e2155",
   "metadata": {},
   "outputs": [],
   "source": [
    "import json\n",
    "import random"
   ]
  },
  {
   "cell_type": "code",
   "execution_count": 7,
   "id": "153994ab-f23f-4a2d-924c-fc7d47b14a70",
   "metadata": {},
   "outputs": [],
   "source": [
    "# 读取数据\n",
    "data_path = 'Qwen-main/data/pro/processed_data.json'\n",
    "\n",
    "# 读取json文件内部的内容\n",
    "f = open(data_path)\n",
    "content = f.read()\n",
    "pre_data = json.loads(content)\n",
    "# pre_data = pre_data[3119:]"
   ]
  },
  {
   "cell_type": "code",
   "execution_count": 20,
   "id": "12719f98-12a8-4a28-8385-823f4f5fe9ef",
   "metadata": {},
   "outputs": [
    {
     "data": {
      "text/plain": [
       "197"
      ]
     },
     "execution_count": 20,
     "metadata": {},
     "output_type": "execute_result"
    }
   ],
   "source": [
    "count=0\n",
    "train=[]\n",
    "for data in pre_data[3119:]:\n",
    "    if len(data['summary']) + len(data['text']) > 5500:\n",
    "        count = count + 1\n",
    "    else:\n",
    "        train.append(data)\n",
    "train = train[785:]\n",
    "count"
   ]
  },
  {
   "cell_type": "code",
   "execution_count": 21,
   "id": "23407341-244b-42d8-9061-f586097fb219",
   "metadata": {
    "tags": []
   },
   "outputs": [
    {
     "data": {
      "text/plain": [
       "110"
      ]
     },
     "execution_count": 21,
     "metadata": {},
     "output_type": "execute_result"
    }
   ],
   "source": [
    "count=0\n",
    "train2=[]\n",
    "for data in pre_data[:3119]:\n",
    "    if len(data['summary']) + len(data['text']) > 5500:\n",
    "        count = count + 1\n",
    "    else:\n",
    "        train2.append(data)\n",
    "count"
   ]
  },
  {
   "cell_type": "code",
   "execution_count": 22,
   "id": "49c37f84-009f-42a0-982a-656769396738",
   "metadata": {},
   "outputs": [
    {
     "data": {
      "text/plain": [
       "8392"
      ]
     },
     "execution_count": 22,
     "metadata": {},
     "output_type": "execute_result"
    }
   ],
   "source": [
    "train3 = train2 + train\n",
    "len(train3)"
   ]
  },
  {
   "cell_type": "code",
   "execution_count": 7,
   "id": "0aa046ad-04bd-420e-91d2-ab57212e95e5",
   "metadata": {},
   "outputs": [
    {
     "name": "stdout",
     "output_type": "stream",
     "text": [
      "9177\n"
     ]
    }
   ],
   "source": [
    "# 获取全部数据量\n",
    "print(len(train))"
   ]
  },
  {
   "cell_type": "code",
   "execution_count": 23,
   "id": "379c9065-a002-43f8-891c-ad6dc26295b1",
   "metadata": {},
   "outputs": [
    {
     "data": {
      "text/plain": [
       "10"
      ]
     },
     "execution_count": 23,
     "metadata": {},
     "output_type": "execute_result"
    }
   ],
   "source": [
    "instructions = [\"请根据上文法律文本，生成一个简练的案件摘要，重点介绍案件的关键论点和裁决。\",\n",
    "                \"从上文法律材料中提炼出一份精简摘要，聚焦于案件的主要争议和法律结果。\",\n",
    "                \"利用上文法律文件，撰写一份案件摘要，概述核心事实和裁判要点。\",\n",
    "                \"基于上文提供的法律信息，形成一个准确的案件摘要，突出关键法律判断。\",\n",
    "                \"将以上文法律文档内容凝练为一份案件摘要，专注于案件的重要法律点。\",\n",
    "                \"针对上文法律文件，制作一个案件摘要，确保有序展现案件背景、主要法律争议和裁定要点。\",\n",
    "                \"根据上文法律材料，撰写一个简洁的案件摘要，聚焦于案件的关键内容和法律分析。\",\n",
    "                \"使用上文法律文本，生成一份案件摘要，精确反映案件的核心论点。\",\n",
    "                \"请基于上文所给法律资料，形成一个案件摘要，集中描述案件的主要法律争议。\",\n",
    "                \"根据上文法律背景，编写一个案件摘要，快速概述案件的关键点和法律意义。\",\n",
    "               ]\n",
    "\n",
    "len(instructions)"
   ]
  },
  {
   "cell_type": "code",
   "execution_count": 26,
   "id": "11a952cc-869b-4637-8b7e-ebd733eab368",
   "metadata": {},
   "outputs": [
    {
     "name": "stdout",
     "output_type": "stream",
     "text": [
      "处理完成\n"
     ]
    }
   ],
   "source": [
    "pro_data = []\n",
    "count = 0\n",
    "j = 0\n",
    "for data in train3:\n",
    "    dict = {}\n",
    "    list = []\n",
    "    if j <= 9:\n",
    "        dict_1 = {\"from\": \"user\", \n",
    "            \"value\": data['text'] + instructions[j]}\n",
    "                  # \"value\": data['text']}\n",
    "    elif j == 10:\n",
    "        dict_1 = {\"from\": \"user\", \n",
    "            \"value\": data['text'] + instructions[0]}\n",
    "        j = 0\n",
    "        \n",
    "    dict_2 = {\"from\": \"assistant\", \n",
    "              \"value\": data['summary']}\n",
    "    list.append(dict_1)\n",
    "    list.append(dict_2)\n",
    "    dict['id'] = data['id']\n",
    "    dict['conversations'] = list\n",
    "    pro_data.append(dict)\n",
    "    count = count + 1\n",
    "    if count % 5 == 0:\n",
    "        j = j + 1\n",
    "print(\"处理完成\")"
   ]
  },
  {
   "cell_type": "code",
   "execution_count": 27,
   "id": "46b3e94a-81a6-41de-bdef-ce6c48376547",
   "metadata": {},
   "outputs": [
    {
     "data": {
      "text/plain": [
       "{'id': '5cec68aadcbea086a5b4b6eccb58a88f',\n",
       " 'conversations': [{'from': 'user',\n",
       "   'value': '唐鲜明与何伟华、深圳市华名威电汽车服务有限公司侵权责任纠纷一审民事判决书 广东省深圳市宝安区人民法院 民 事 判 决 书 （2017）粤0306民初3474号 原告唐鲜明 委托代理人孙光扬，泽丰（深圳）律师事务所律师。 被告何伟华 被告深圳市华名威电汽车服务有限公司。 法定代表人何伟华。 两被告共同委托代理人刘征，广东同观律师事务所律师。 上列原告唐鲜明诉被告何伟华、深圳市华名威电汽车服务有限公司（以下简称华名威公司）侵权责任纠纷一案，原告诉请：1、判决被告赔偿原告163755.57元，赔偿明细如下：医疗费27086.37元、住院伙食补助费2500元、营养费4000元、护理费4598元、误工费26851元、残疾赔偿金46677.20元、精神损害抚慰金20000元、后续治疗费10000元、被抚养人生活费7787+9456元、交通费2000元、住宿费1000元、鉴定费1800元； 2、案件受理费等由被告承担。 本院受理后，依法适用普通程序，公开开庭进行了审理。 原告唐鲜明及其委托代理人孙光扬，两被告共同委托代理人刘征到庭参加了诉讼。 本案现已审理终结。 本案相关情况 原告唐鲜明主张其应案外人粟顺良要求于2014年12月13日前往广东省深圳市宝安区松岗街道车站一条街50号店铺进行装修施工，粟顺良曾向其承诺工钱为每天200元，当日其与粟爱国、粟武强三人一起施工； 当日下午，原告在施工过程中摔倒受伤，原告电话告知粟顺良后，粟顺良赶到现场与其他几人一起将其送往医院，粟顺良支付了部分医疗费。 原告主张涉案松岗街道车站一条街50号店铺系被告何伟华经营的好牛酒业商铺，店铺门口悬挂了被告“深圳市华名威电汽车服务有限公司”的招牌，两被告在原告施工过程中没有尽到管理责任，应承担侵权责任； 两被告对此不予认可，称两被告与涉案店铺没有关系，并未租用该店铺。 为调查相关案情，本院工作人员于2017年8月4日前往事发商铺，该商铺大门紧锁，已呈空置状态； 后工作人员前往深圳市宝安区松岗街道流动人口和出租屋管理办公室东方巡查中队进行调查，该中队称管理系统中并不能显示2014年12月13日事件发生当时车站一条街50号店铺的承租人情况。 原告受伤当日进入深圳市宝安区松岗人民医院住院治疗，于2015年1月7日出院，共计住院25天，发生医疗费27086.37元。 出院当日，医院出具《疾病诊断证明书》载明：1、出院后头三个月每月门诊拍片复查一次，若有不适，请即诊； 2、扶拐下地功能锻炼，患肢逐步负重； 3、暂休假四个月； 4、骨折愈合后取出内固定物（费约壹万元）； 5、住院期间留一人陪护。 2015年3月16日，广东南天司法鉴定所作出粤南(2015)临鉴字第817号《司法鉴定意见书》，鉴定意见为被鉴定人唐鲜明的伤残等级为玖级。 原告为此支付鉴定费1800元。 另，关于原告家庭情况，原告主张其无子女，兄弟三人，原告父亲唐近祥1948年12月16日出生，母亲李解英1951年10月18日出生，均为农业户口。 判决结果 本院认为，原告系受案外人粟顺良指示在涉案店铺进行装修，其主张两被告未尽到管理责任，但并未能提供充分的证据证明涉案商铺与两被告的关系，亦未能证实两被告存在过错行为且与原告受伤的结果之间有因果联系，故原告应承担举证不能的法律后果，对原告的诉讼请求，本院均不予支持。 综上，依照《中华人民共和国民事诉讼法》第六十四条第一款、《最高人民法院关于民事诉讼证据的若干规定》第二条的规定，判决如下： 驳回原告唐鲜明的全部诉讼请求。 案件受理费3575.12元，由原告唐鲜明负担。 如不服本判决，可在判决书送达之日起十五日内，向本院递交上诉状，并按对方当事人的人数提出副本，上诉于广东省深圳市中级人民法院。 审\\u3000判\\u3000长\\u3000赵\\u3000 曼\\u3000 琪 人民陪审员\\u3000陈\\u3000 初\\u3000 瑛 人民陪审员\\u3000王\\u3000 嘉\\u3000 义 二〇一七年十二月二十七日 书\\u3000记\\u3000员\\u3000高美琪（兼） 书\\u3000记\\u3000员\\u3000文\\u3000 英\\u3000 玲 附本案相关法律条文如下： 《中华人民共和国民事诉讼法》 第六十四条第一款当事人对自己提出的主张，有责任提供证据。 《最高人民法院关于民事诉讼证据的若干规定》 第二条当事人对自己提出的诉讼请求所依据的事实或者反驳对方诉讼请求所依据的事实有责任提供证据加以证明。 没有证据或者证据不足以证明当事人的事实主张的，由负有举证责任的当事人承担不利后果。请根据上文法律文本，生成一个简练的案件摘要，重点介绍案件的关键论点和裁决。'},\n",
       "  {'from': 'assistant',\n",
       "   'value': '原告与被告侵权责任纠纷一案。原告提出诉求：判决被告赔偿原告医疗费、住院伙食补助费、营养费、护理费、误工费、残疾赔偿金、精神损害抚慰金、后续治疗费、被抚养人生活费、交通费、住宿费、鉴定费。被告辩称两被告对此不予认可，称两被告与涉案店铺没有关系，并未租用该店铺。经查明原告系受案外人粟顺良指示在涉案店铺进行装修，其主张两被告未尽到管理责任，但并未能提供充分的证据证明涉案商铺与两被告的关系，亦未能证实两被告存在过错行为且与原告受伤的结果之间有因果联系。根据《中华人民共和国民事诉讼法》第六十四条第一款、《最高人民法院关于民事诉讼证据的若干规定》第二条的规定，判决：驳回原告全部诉讼请求。'}]}"
      ]
     },
     "execution_count": 27,
     "metadata": {},
     "output_type": "execute_result"
    }
   ],
   "source": [
    "# 查看数据格式\n",
    "pro_data[0]"
   ]
  },
  {
   "cell_type": "code",
   "execution_count": 29,
   "id": "6df4dc0c-89f1-4e2f-8ecb-c5d2575727d8",
   "metadata": {},
   "outputs": [],
   "source": [
    "json_file_path = \"Qwen-main/data/train_8392_0617.json\"\n",
    "json_file = open(json_file_path, mode='w', encoding='utf-8')\n",
    "json.dump(pro_data, json_file, ensure_ascii=False)"
   ]
  },
  {
   "cell_type": "code",
   "execution_count": 26,
   "id": "ab33b5b8-c017-4cb3-9756-6dec21254816",
   "metadata": {},
   "outputs": [],
   "source": [
    "with open(\"data.json\", \"w\", encoding='utf-8') as f:\n",
    "    for line in pro_data:\n",
    "        f.write(json.dumps(line, ensure_ascii=False)+\",\\n\")"
   ]
  },
  {
   "cell_type": "code",
   "execution_count": 2,
   "id": "55887b3d-d4b7-4996-966d-9eb0d2e8df42",
   "metadata": {},
   "outputs": [],
   "source": [
    "# 读取数据\n",
    "data_path = 'Qwen-main/data/predict_y_y2340_x3.json'\n",
    "\n",
    "# 读取json文件内部的内容\n",
    "f = open(data_path)\n",
    "content = f.read()\n",
    "pre_data = json.loads(content)\n",
    "# pre_data = pre_data[3119:]\n",
    "\n",
    "# 读取数据\n",
    "data_path2 = 'Qwen-main/data/predict_y_y2340_x4.json'\n",
    "\n",
    "# 读取json文件内部的内容\n",
    "f = open(data_path2)\n",
    "content2 = f.read()\n",
    "pre_data2 = json.loads(content2)\n",
    "# pre_data = pre_data[3119:]"
   ]
  },
  {
   "cell_type": "code",
   "execution_count": 3,
   "id": "94b72a53-c9f2-4e76-ade6-ab8140d46297",
   "metadata": {},
   "outputs": [],
   "source": [
    "x5 = pre_data + pre_data2"
   ]
  },
  {
   "cell_type": "code",
   "execution_count": 6,
   "id": "62671adf-5df3-480c-bf63-769a4cddfbb6",
   "metadata": {},
   "outputs": [],
   "source": [
    "json_file_path = \"Qwen-main/data/predict_y_y2340_x5.json\"\n",
    "json_file = open(json_file_path, mode='w', encoding='utf-8')\n",
    "json.dump(x5, json_file, ensure_ascii=False)"
   ]
  },
  {
   "cell_type": "code",
   "execution_count": null,
   "id": "fa09b986-3212-4a84-b6fd-dc409163cea6",
   "metadata": {},
   "outputs": [],
   "source": []
  }
 ],
 "metadata": {
  "kernelspec": {
   "display_name": "Python 3 (ipykernel)",
   "language": "python",
   "name": "python3"
  },
  "language_info": {
   "codemirror_mode": {
    "name": "ipython",
    "version": 3
   },
   "file_extension": ".py",
   "mimetype": "text/x-python",
   "name": "python",
   "nbconvert_exporter": "python",
   "pygments_lexer": "ipython3",
   "version": "3.10.6"
  }
 },
 "nbformat": 4,
 "nbformat_minor": 5
}
